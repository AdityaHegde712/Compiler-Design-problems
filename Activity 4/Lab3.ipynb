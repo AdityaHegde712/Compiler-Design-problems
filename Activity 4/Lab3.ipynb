{
 "cells": [
  {
   "cell_type": "markdown",
   "metadata": {},
   "source": [
    "# Tasks:\n",
    "### 1. Read CFG and print it\n",
    "### 2. Compute FIRST and FOLLOW of all non-terminal characters\n",
    "### 3. Construct LL(1) parsing table\n",
    "### 4. Check whether given cfg is LL1 or not \n",
    "### 5. Read any input string and parse it"
   ]
  },
  {
   "cell_type": "markdown",
   "metadata": {},
   "source": [
    "----------------------------------------------------"
   ]
  },
  {
   "cell_type": "markdown",
   "metadata": {},
   "source": [
    "#### Read and print cfg"
   ]
  },
  {
   "cell_type": "code",
   "execution_count": 61,
   "metadata": {},
   "outputs": [],
   "source": [
    "def read_cfg():\n",
    "    cfg = []\n",
    "    while True:\n",
    "        line = input()\n",
    "        if line == 'end':\n",
    "            break\n",
    "        cfg.append(line)\n",
    "    return cfg\n",
    "\n",
    "def print_cfg(cfg=None):\n",
    "    if cfg == None:\n",
    "        cfg = read_cfg()\n",
    "    for line in cfg:\n",
    "        print(line)\n",
    "    return cfg\n",
    "\n"
   ]
  },
  {
   "cell_type": "markdown",
   "metadata": {},
   "source": [
    "#### Compute First"
   ]
  },
  {
   "cell_type": "code",
   "execution_count": 62,
   "metadata": {},
   "outputs": [],
   "source": [
    "# Separates the nonterminals from the productions\n",
    "def split_terms(cfg):\n",
    "    nonterminals = []\n",
    "    productions = []\n",
    "    for line in cfg:\n",
    "        nonterminals.append(line[0])\n",
    "        productions.append(line[3:])\n",
    "    return nonterminals, productions\n",
    "\n",
    "\n",
    "# Function if first of a left side character is a non-terminal\n",
    "def badfirst(a, nonterminals, productions):\n",
    "    first = ''\n",
    "    for i in range(len(nonterminals)):\n",
    "        if a == nonterminals[i]:\n",
    "            first = productions[i][0]\n",
    "            if first.islower():\n",
    "                return first\n",
    "            else:\n",
    "                return badfirst(first, nonterminals, productions)\n",
    "            \n",
    "\n",
    "# Main function to compute the firsts of the non-terminals\n",
    "def compute_firsts(cfg):\n",
    "    nonterminals, productions = split_terms(cfg)\n",
    "    all_firsts = {}\n",
    "    for a, b in zip(nonterminals, productions):\n",
    "        first = b[0]\n",
    "        if b.islower():\n",
    "            # print(f\"FIRST({a}) = {first}\")\n",
    "            all_firsts[a] = [first]\n",
    "        else:\n",
    "            fixed_first = badfirst(a, nonterminals, productions)\n",
    "            # print(f\"FIRST({a}) = {fixed_first}\")\n",
    "            if a not in all_firsts.keys():\n",
    "                all_firsts[a] = [fixed_first]\n",
    "            else:\n",
    "                all_firsts[a].append(fixed_first)\n",
    "    return all_firsts"
   ]
  },
  {
   "cell_type": "markdown",
   "metadata": {},
   "source": [
    "#### Compute Follows"
   ]
  },
  {
   "cell_type": "code",
   "execution_count": 63,
   "metadata": {},
   "outputs": [],
   "source": [
    "def compute_follows(cfg):\n",
    "    nonterminals, productions = split_terms(cfg)\n",
    "    for a, b in zip(nonterminals, productions):\n",
    "        follows = []\n",
    "        if nonterminals.index(a) == 0:\n",
    "            follows.append('$')\n",
    "        # position = "
   ]
  },
  {
   "cell_type": "markdown",
   "metadata": {},
   "source": [
    "#### LL1 Parsing table"
   ]
  },
  {
   "cell_type": "code",
   "execution_count": 64,
   "metadata": {},
   "outputs": [],
   "source": [
    "def ll1_table(cfg):\n",
    "    pass"
   ]
  },
  {
   "cell_type": "markdown",
   "metadata": {},
   "source": [
    "#### Check if grammar is LL1 or not"
   ]
  },
  {
   "cell_type": "code",
   "execution_count": 65,
   "metadata": {},
   "outputs": [],
   "source": [
    "def is_ll1(cfg):\n",
    "    pass"
   ]
  },
  {
   "cell_type": "markdown",
   "metadata": {},
   "source": [
    "#### Parse some grammar using your parser"
   ]
  },
  {
   "cell_type": "code",
   "execution_count": 66,
   "metadata": {},
   "outputs": [],
   "source": [
    "def parse(cfg):\n",
    "    pass"
   ]
  },
  {
   "cell_type": "markdown",
   "metadata": {},
   "source": [
    "#### Main code"
   ]
  },
  {
   "cell_type": "code",
   "execution_count": 67,
   "metadata": {},
   "outputs": [
    {
     "name": "stdout",
     "output_type": "stream",
     "text": [
      "S -> ABC\n",
      "A -> a\n",
      "B -> b\n",
      "C -> c\n",
      "\n",
      "FIRST(S) -> ['a']\n",
      "FIRST(A) -> ['a']\n",
      "FIRST(B) -> ['b']\n",
      "FIRST(C) -> ['c']\n",
      "\n",
      "\n",
      "\n",
      "\n"
     ]
    }
   ],
   "source": [
    "cfg = ['S -> ABC', 'A -> a', 'B -> b', 'C -> c'] # Creating a cfg to make input easier\n",
    "\n",
    "# cfg = [line.replace(' ', '') for line in print_cfg()] # Reading and printing cfg\n",
    "cfg = [line.replace(' ', '') for line in print_cfg(cfg)] # Reading and printing cfg\n",
    "\n",
    "print()\n",
    "final_firsts = compute_firsts(cfg)\n",
    "for key, value in final_firsts.items():\n",
    "    print(f\"FIRST({key}) -> {value}\")\n",
    "\n",
    "print()\n",
    "compute_follows(cfg)\n",
    "\n",
    "print()\n",
    "ll1_table(cfg)\n",
    "\n",
    "print()\n",
    "is_ll1(cfg)\n",
    "\n",
    "print()\n",
    "parse(cfg)\n"
   ]
  }
 ],
 "metadata": {
  "kernelspec": {
   "display_name": "Python 3",
   "language": "python",
   "name": "python3"
  },
  "language_info": {
   "codemirror_mode": {
    "name": "ipython",
    "version": 3
   },
   "file_extension": ".py",
   "mimetype": "text/x-python",
   "name": "python",
   "nbconvert_exporter": "python",
   "pygments_lexer": "ipython3",
   "version": "3.11.4"
  },
  "orig_nbformat": 4
 },
 "nbformat": 4,
 "nbformat_minor": 2
}
